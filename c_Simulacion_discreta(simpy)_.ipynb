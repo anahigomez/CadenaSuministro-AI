{
  "nbformat": 4,
  "nbformat_minor": 0,
  "metadata": {
    "colab": {
      "name": "c-Simulacion discreta(simpy) .ipynb",
      "provenance": [],
      "collapsed_sections": [],
      "include_colab_link": true
    },
    "kernelspec": {
      "display_name": "Python 3",
      "language": "python",
      "name": "python3"
    },
    "language_info": {
      "codemirror_mode": {
        "name": "ipython",
        "version": 3
      },
      "file_extension": ".py",
      "mimetype": "text/x-python",
      "name": "python",
      "nbconvert_exporter": "python",
      "pygments_lexer": "ipython3",
      "version": "3.7.3"
    }
  },
  "cells": [
    {
      "cell_type": "markdown",
      "metadata": {
        "id": "view-in-github",
        "colab_type": "text"
      },
      "source": [
        "<a href=\"https://colab.research.google.com/github/anahigomez/CadenaSuministro-AI/blob/master/c_Simulacion_discreta(simpy)_.ipynb\" target=\"_parent\"><img src=\"https://colab.research.google.com/assets/colab-badge.svg\" alt=\"Open In Colab\"/></a>"
      ]
    },
    {
      "cell_type": "code",
      "metadata": {
        "colab_type": "code",
        "id": "ddxLFi2NGhy_",
        "scrolled": true,
        "outputId": "ab0d8f9b-426f-4132-f1e1-b69652e3db9e",
        "colab": {
          "base_uri": "https://localhost:8080/",
          "height": 110
        }
      },
      "source": [
        "import random\n",
        "import math\n",
        "!pip install simpy \n",
        "import simpy"
      ],
      "execution_count": 1,
      "outputs": [
        {
          "output_type": "stream",
          "text": [
            "Collecting simpy\n",
            "  Downloading https://files.pythonhosted.org/packages/5a/64/8f0fc71400d41b6c2c6443d333a1cade458d23d4945ccda700c810ff6aae/simpy-3.0.11-py2.py3-none-any.whl\n",
            "Installing collected packages: simpy\n",
            "Successfully installed simpy-3.0.11\n"
          ],
          "name": "stdout"
        }
      ]
    },
    {
      "cell_type": "code",
      "metadata": {
        "id": "nEhO40SNI5Sa",
        "colab_type": "code",
        "colab": {}
      },
      "source": [
        "# Atención en el Banco \n",
        "SEMILLA = 20\n",
        "NUM_CAJEROS = 3\n",
        "TIEMPO_ATENCION_MIN = 15\n",
        "TIEMPO_ATENCION_MAX = 35\n",
        "T_LLEGADAS = 10\n",
        "TIEMPO_SIMULACION = 90\n",
        "TOT_CLIENTES = 5\n",
        " \n",
        "te  = 0.0 # tiempo de espera total\n",
        "dt  = 0.0 # duracion de servicio total\n",
        "fin = 0.0 # minuto en el que finaliza"
      ],
      "execution_count": 0,
      "outputs": []
    },
    {
      "cell_type": "code",
      "metadata": {
        "id": "7p_yzLtgI5Si",
        "colab_type": "code",
        "outputId": "7b3525c1-7f28-4ff7-adb2-45f81c922082",
        "colab": {
          "base_uri": "https://localhost:8080/",
          "height": 399
        }
      },
      "source": [
        "# Funcion de atencion al clients\n",
        "def Atencion(cliente):\n",
        "    global dt  #Accedemos a la variable dt declarada anteriormente\n",
        "    # numero aleatorio y lo guarda en R\n",
        "    R = random.random()  \n",
        "    tiempo = TIEMPO_ATENCION_MAX - TIEMPO_ATENCION_MIN  \n",
        "    # Distribucion uniforme\n",
        "    tiempo_aten = TIEMPO_ATENCION_MIN + (tiempo*R) \n",
        "    # deja correr el tiempo n minutos\n",
        "    yield env.timeout(tiempo_aten) \n",
        "    print(\"3er paso: Atencion listo a %s en %.2f minutos\" % (cliente,tiempo_aten))\n",
        "    # Acumula los tiempos de uso de la i\n",
        "    dt = dt + tiempo_aten \n",
        "#\n",
        "def cliente (env, nombre, personal ):\n",
        "    global te\n",
        "    global fin\n",
        "    # Guarda el minuto de llegada del cliente\n",
        "    llega = env.now \n",
        "    print (\"1ro paso: %s llego al Banco en el minuto %.2f\" % (nombre, llega))\n",
        "    # Espera su turno\n",
        "    with personal.request() as request: \n",
        "        # Obtiene turno\n",
        "        yield request \n",
        "        # Guarda el minuto cuando comienza a ser atendido\n",
        "        pasa = env.now \n",
        "        # Calcula el tiempo que espero\n",
        "        espera = pasa - llega \n",
        "        # Acumula los tiempos de espera\n",
        "        te = te + espera \n",
        "        print (\"2do paso: %s pasa con el cajero en el minuto %.2f habiendo esperado %.2f\" % (nombre, pasa, espera))\n",
        "        # Invoca al proceso Atencion\n",
        "        yield env.process(Atencion(nombre)) \n",
        "        #Guarda el minuto en que termina el proceso Atencion \n",
        "        deja = env.now \n",
        "        print (\"4to paso: %s deja el Banco en el minuto %.2f\" % (nombre, deja)) \n",
        "        # Conserva globalmente el ultimo minuto de la simulacion\n",
        "        fin = deja \n",
        "\n",
        "def principal (env, personal):\n",
        "    llegada = 0\n",
        "    i = 0\n",
        "    # Para 10 clientes\n",
        "    for i in range(TOT_CLIENTES): \n",
        "        R = random.random()\n",
        "        # Distribucion exponencial\n",
        "        llegada = -T_LLEGADAS * math.log(R) \n",
        "        # Deja transcurrir un tiempo entre uno y otro\n",
        "        yield env.timeout(llegada)  \n",
        "        i += 1\n",
        "        env.process(cliente(env, 'Cliente %d' % i, personal)) \n",
        "\n",
        "print (\"============= SIMULACION COLA EN EL BANCO=============\")\n",
        " # Cualquier valor\n",
        "random.seed (SEMILLA) \n",
        "# Crea el objeto entorno de simulacion\n",
        "env = simpy.Environment() \n",
        "#Crea los recursos \n",
        "personal = simpy.Resource(env, NUM_CAJEROS) \n",
        "#Invoca el proceso princial\n",
        "env.process(principal(env, personal))\n",
        "#Inicia la simulacion   \n",
        "env.run()       "
      ],
      "execution_count": 3,
      "outputs": [
        {
          "output_type": "stream",
          "text": [
            "============= SIMULACION COLA EN EL BANCO=============\n",
            "1ro paso: Cliente 1 llego al Banco en el minuto 0.99\n",
            "2do paso: Cliente 1 pasa con el cajero en el minuto 0.99 habiendo esperado 0.00\n",
            "1ro paso: Cliente 2 llego al Banco en el minuto 4.76\n",
            "2do paso: Cliente 2 pasa con el cajero en el minuto 4.76 habiendo esperado 0.00\n",
            "1ro paso: Cliente 3 llego al Banco en el minuto 5.76\n",
            "2do paso: Cliente 3 pasa con el cajero en el minuto 5.76 habiendo esperado 0.00\n",
            "1ro paso: Cliente 4 llego al Banco en el minuto 10.29\n",
            "1ro paso: Cliente 5 llego al Banco en el minuto 11.66\n",
            "3er paso: Atencion listo a Cliente 2 en 20.20 minutos\n",
            "4to paso: Cliente 2 deja el Banco en el minuto 24.95\n",
            "2do paso: Cliente 4 pasa con el cajero en el minuto 24.95 habiendo esperado 14.66\n",
            "3er paso: Atencion listo a Cliente 1 en 30.33 minutos\n",
            "4to paso: Cliente 1 deja el Banco en el minuto 31.32\n",
            "2do paso: Cliente 5 pasa con el cajero en el minuto 31.32 habiendo esperado 19.66\n",
            "3er paso: Atencion listo a Cliente 3 en 33.10 minutos\n",
            "4to paso: Cliente 3 deja el Banco en el minuto 38.86\n",
            "3er paso: Atencion listo a Cliente 5 en 18.39 minutos\n",
            "4to paso: Cliente 5 deja el Banco en el minuto 49.71\n",
            "3er paso: Atencion listo a Cliente 4 en 26.46 minutos\n",
            "4to paso: Cliente 4 deja el Banco en el minuto 51.41\n"
          ],
          "name": "stdout"
        }
      ]
    },
    {
      "cell_type": "code",
      "metadata": {
        "id": "1PnuNH5SI5Sv",
        "colab_type": "code",
        "outputId": "55382d9b-2c54-4adf-8f9d-ab83237923be",
        "colab": {
          "base_uri": "https://localhost:8080/",
          "height": 199
        }
      },
      "source": [
        "print (\"\\n---------------------------------------------------------------------\")\n",
        "print (\"\\nINDICADORES: \")\n",
        "lpc = te / fin\n",
        "print (\"\\nLongitud promedio de la cola: %.2f\" % lpc)\n",
        "tep = te / TOT_CLIENTES\n",
        "print (\"Tiempo de espera promedio = %.2f\" % tep)\n",
        "upi = (dt / fin) / NUM_CAJEROS\n",
        "print (\"Uso promedio de la instalacion = %.2f\" % upi)\n",
        "print (\"\\n---------------------------------------------------------------------\")"
      ],
      "execution_count": 4,
      "outputs": [
        {
          "output_type": "stream",
          "text": [
            "\n",
            "---------------------------------------------------------------------\n",
            "\n",
            "INDICADORES: \n",
            "\n",
            "Longitud promedio de la cola: 0.67\n",
            "Tiempo de espera promedio = 6.87\n",
            "Uso promedio de la instalacion = 0.83\n",
            "\n",
            "---------------------------------------------------------------------\n"
          ],
          "name": "stdout"
        }
      ]
    }
  ]
}