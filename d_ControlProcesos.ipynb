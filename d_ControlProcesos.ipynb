{
  "nbformat": 4,
  "nbformat_minor": 0,
  "metadata": {
    "colab": {
      "name": "d-ControlProcesos.ipynb",
      "provenance": [],
      "collapsed_sections": [],
      "include_colab_link": true
    },
    "kernelspec": {
      "display_name": "Python 3",
      "language": "python",
      "name": "python3"
    },
    "language_info": {
      "codemirror_mode": {
        "name": "ipython",
        "version": 3
      },
      "file_extension": ".py",
      "mimetype": "text/x-python",
      "name": "python",
      "nbconvert_exporter": "python",
      "pygments_lexer": "ipython3",
      "version": "3.7.3"
    }
  },
  "cells": [
    {
      "cell_type": "markdown",
      "metadata": {
        "id": "view-in-github",
        "colab_type": "text"
      },
      "source": [
        "<a href=\"https://colab.research.google.com/github/anahigomez/CadenaSuministro-AI/blob/master/d_ControlProcesos.ipynb\" target=\"_parent\"><img src=\"https://colab.research.google.com/assets/colab-badge.svg\" alt=\"Open In Colab\"/></a>"
      ]
    },
    {
      "cell_type": "code",
      "metadata": {
        "colab_type": "code",
        "id": "ddxLFi2NGhy_",
        "scrolled": true,
        "outputId": "1fc2a32b-826d-4c6d-a189-969209d02274",
        "colab": {
          "base_uri": "https://localhost:8080/",
          "height": 401
        }
      },
      "source": [
        "import pandas as pd\n",
        "import matplotlib.pyplot as plt\n",
        "import seaborn as sns\n",
        "import numpy as np\n",
        "import warnings\n",
        "!pip install pyspc \n",
        "from pyspc import *\n",
        "warnings.filterwarnings('ignore') # Para evitar los molestos avisos.\n",
        "%matplotlib inline"
      ],
      "execution_count": 1,
      "outputs": [
        {
          "output_type": "stream",
          "text": [
            "Collecting pyspc\n",
            "  Downloading https://files.pythonhosted.org/packages/f1/d6/da7e052e0e43c5b3c286a572c6a84872b79cb4b5fa927e9056f6f2c1182a/pyspc-0.4.tar.gz\n",
            "Requirement already satisfied: pandas in /usr/local/lib/python3.6/dist-packages (from pyspc) (0.25.3)\n",
            "Requirement already satisfied: matplotlib in /usr/local/lib/python3.6/dist-packages (from pyspc) (3.1.2)\n",
            "Requirement already satisfied: numpy in /usr/local/lib/python3.6/dist-packages (from pyspc) (1.17.4)\n",
            "Requirement already satisfied: scipy in /usr/local/lib/python3.6/dist-packages (from pyspc) (1.3.3)\n",
            "Requirement already satisfied: pytz>=2017.2 in /usr/local/lib/python3.6/dist-packages (from pandas->pyspc) (2018.9)\n",
            "Requirement already satisfied: python-dateutil>=2.6.1 in /usr/local/lib/python3.6/dist-packages (from pandas->pyspc) (2.6.1)\n",
            "Requirement already satisfied: kiwisolver>=1.0.1 in /usr/local/lib/python3.6/dist-packages (from matplotlib->pyspc) (1.1.0)\n",
            "Requirement already satisfied: cycler>=0.10 in /usr/local/lib/python3.6/dist-packages (from matplotlib->pyspc) (0.10.0)\n",
            "Requirement already satisfied: pyparsing!=2.0.4,!=2.1.2,!=2.1.6,>=2.0.1 in /usr/local/lib/python3.6/dist-packages (from matplotlib->pyspc) (2.4.5)\n",
            "Requirement already satisfied: six>=1.5 in /usr/local/lib/python3.6/dist-packages (from python-dateutil>=2.6.1->pandas->pyspc) (1.12.0)\n",
            "Requirement already satisfied: setuptools in /usr/local/lib/python3.6/dist-packages (from kiwisolver>=1.0.1->matplotlib->pyspc) (42.0.2)\n",
            "Building wheels for collected packages: pyspc\n",
            "  Building wheel for pyspc (setup.py) ... \u001b[?25l\u001b[?25hdone\n",
            "  Created wheel for pyspc: filename=pyspc-0.4-cp36-none-any.whl size=30878 sha256=3458454d0f7e5d5fb66da847884cd9a5f69f192238965c69b8d4baa111a581ff\n",
            "  Stored in directory: /root/.cache/pip/wheels/bf/03/f8/b15370eb2f37f1fbc6b921ce1460d94f81f6cb648926086991\n",
            "Successfully built pyspc\n",
            "Installing collected packages: pyspc\n",
            "Successfully installed pyspc-0.4\n"
          ],
          "name": "stdout"
        }
      ]
    },
    {
      "cell_type": "code",
      "metadata": {
        "id": "iAPrjQKoI7Cj",
        "colab_type": "code",
        "colab": {}
      },
      "source": [
        "# Producción de dulces en los Estados Unidos por fecha gestion y mes \n",
        "#data = pd.read_csv(\"../Datos/candy_productions.csv\")\n",
        "data = pd.read_csv(\"candy_productions.csv\")\n"
      ],
      "execution_count": 0,
      "outputs": []
    },
    {
      "cell_type": "code",
      "metadata": {
        "id": "wQRWhh7qI7Cp",
        "colab_type": "code",
        "outputId": "3bc5062d-d3d7-4a2f-c05d-0489b7c2b405",
        "colab": {
          "base_uri": "https://localhost:8080/",
          "height": 35
        }
      },
      "source": [
        "data.shape"
      ],
      "execution_count": 3,
      "outputs": [
        {
          "output_type": "execute_result",
          "data": {
            "text/plain": [
              "(332, 6)"
            ]
          },
          "metadata": {
            "tags": []
          },
          "execution_count": 3
        }
      ]
    },
    {
      "cell_type": "code",
      "metadata": {
        "id": "sksFNGf8I7Cx",
        "colab_type": "code",
        "outputId": "d89617f5-be23-40c6-e5d7-1f54eae668c3",
        "colab": {
          "base_uri": "https://localhost:8080/",
          "height": 198
        }
      },
      "source": [
        "data.head(5)"
      ],
      "execution_count": 4,
      "outputs": [
        {
          "output_type": "execute_result",
          "data": {
            "text/html": [
              "<div>\n",
              "<style scoped>\n",
              "    .dataframe tbody tr th:only-of-type {\n",
              "        vertical-align: middle;\n",
              "    }\n",
              "\n",
              "    .dataframe tbody tr th {\n",
              "        vertical-align: top;\n",
              "    }\n",
              "\n",
              "    .dataframe thead th {\n",
              "        text-align: right;\n",
              "    }\n",
              "</style>\n",
              "<table border=\"1\" class=\"dataframe\">\n",
              "  <thead>\n",
              "    <tr style=\"text-align: right;\">\n",
              "      <th></th>\n",
              "      <th>date</th>\n",
              "      <th>year</th>\n",
              "      <th>month</th>\n",
              "      <th>production1</th>\n",
              "      <th>production2</th>\n",
              "      <th>production3</th>\n",
              "    </tr>\n",
              "  </thead>\n",
              "  <tbody>\n",
              "    <tr>\n",
              "      <th>0</th>\n",
              "      <td>1990-01-01</td>\n",
              "      <td>1990</td>\n",
              "      <td>1</td>\n",
              "      <td>99.9894</td>\n",
              "      <td>75.7999</td>\n",
              "      <td>142.7999</td>\n",
              "    </tr>\n",
              "    <tr>\n",
              "      <th>1</th>\n",
              "      <td>1990-02-01</td>\n",
              "      <td>1990</td>\n",
              "      <td>2</td>\n",
              "      <td>101.2116</td>\n",
              "      <td>73.7547</td>\n",
              "      <td>117.7547</td>\n",
              "    </tr>\n",
              "    <tr>\n",
              "      <th>2</th>\n",
              "      <td>1990-03-01</td>\n",
              "      <td>1990</td>\n",
              "      <td>3</td>\n",
              "      <td>94.8477</td>\n",
              "      <td>93.1582</td>\n",
              "      <td>108.1582</td>\n",
              "    </tr>\n",
              "    <tr>\n",
              "      <th>3</th>\n",
              "      <td>1990-04-01</td>\n",
              "      <td>1990</td>\n",
              "      <td>4</td>\n",
              "      <td>88.4239</td>\n",
              "      <td>102.2382</td>\n",
              "      <td>155.2382</td>\n",
              "    </tr>\n",
              "    <tr>\n",
              "      <th>4</th>\n",
              "      <td>1990-05-01</td>\n",
              "      <td>1990</td>\n",
              "      <td>5</td>\n",
              "      <td>88.6775</td>\n",
              "      <td>69.2708</td>\n",
              "      <td>155.2708</td>\n",
              "    </tr>\n",
              "  </tbody>\n",
              "</table>\n",
              "</div>"
            ],
            "text/plain": [
              "         date  year  month  production1  production2  production3\n",
              "0  1990-01-01  1990      1      99.9894      75.7999     142.7999\n",
              "1  1990-02-01  1990      2     101.2116      73.7547     117.7547\n",
              "2  1990-03-01  1990      3      94.8477      93.1582     108.1582\n",
              "3  1990-04-01  1990      4      88.4239     102.2382     155.2382\n",
              "4  1990-05-01  1990      5      88.6775      69.2708     155.2708"
            ]
          },
          "metadata": {
            "tags": []
          },
          "execution_count": 4
        }
      ]
    },
    {
      "cell_type": "code",
      "metadata": {
        "id": "hDNef8XmI7C4",
        "colab_type": "code",
        "outputId": "2a274cc6-19da-4e0e-df6a-ae2ebf77b5fd",
        "colab": {
          "base_uri": "https://localhost:8080/",
          "height": 35
        }
      },
      "source": [
        "data.index.dtype"
      ],
      "execution_count": 5,
      "outputs": [
        {
          "output_type": "execute_result",
          "data": {
            "text/plain": [
              "dtype('int64')"
            ]
          },
          "metadata": {
            "tags": []
          },
          "execution_count": 5
        }
      ]
    },
    {
      "cell_type": "code",
      "metadata": {
        "id": "I3zPonizI7C9",
        "colab_type": "code",
        "outputId": "8e28a0f1-6f68-4f68-d9fe-5ca02fcdde05",
        "colab": {
          "base_uri": "https://localhost:8080/",
          "height": 228
        }
      },
      "source": [
        "data1 = data.groupby('year').agg({'production1' : lambda x: x.sum(),\n",
        "                                  'production2' : lambda x: x.sum(),\n",
        "                                  'production3' : lambda x: x.sum()})\n",
        "#data.columns =['production1','production2']\n",
        "data1.head()"
      ],
      "execution_count": 6,
      "outputs": [
        {
          "output_type": "execute_result",
          "data": {
            "text/html": [
              "<div>\n",
              "<style scoped>\n",
              "    .dataframe tbody tr th:only-of-type {\n",
              "        vertical-align: middle;\n",
              "    }\n",
              "\n",
              "    .dataframe tbody tr th {\n",
              "        vertical-align: top;\n",
              "    }\n",
              "\n",
              "    .dataframe thead th {\n",
              "        text-align: right;\n",
              "    }\n",
              "</style>\n",
              "<table border=\"1\" class=\"dataframe\">\n",
              "  <thead>\n",
              "    <tr style=\"text-align: right;\">\n",
              "      <th></th>\n",
              "      <th>production1</th>\n",
              "      <th>production2</th>\n",
              "      <th>production3</th>\n",
              "    </tr>\n",
              "    <tr>\n",
              "      <th>year</th>\n",
              "      <th></th>\n",
              "      <th></th>\n",
              "      <th></th>\n",
              "    </tr>\n",
              "  </thead>\n",
              "  <tbody>\n",
              "    <tr>\n",
              "      <th>1990</th>\n",
              "      <td>1265.9570</td>\n",
              "      <td>1283.7596</td>\n",
              "      <td>1591.7596</td>\n",
              "    </tr>\n",
              "    <tr>\n",
              "      <th>1991</th>\n",
              "      <td>1316.8270</td>\n",
              "      <td>1499.4401</td>\n",
              "      <td>1309.4401</td>\n",
              "    </tr>\n",
              "    <tr>\n",
              "      <th>1992</th>\n",
              "      <td>1231.8878</td>\n",
              "      <td>1267.2503</td>\n",
              "      <td>1399.2503</td>\n",
              "    </tr>\n",
              "    <tr>\n",
              "      <th>1993</th>\n",
              "      <td>1255.2003</td>\n",
              "      <td>1364.3083</td>\n",
              "      <td>1360.3083</td>\n",
              "    </tr>\n",
              "    <tr>\n",
              "      <th>1994</th>\n",
              "      <td>1255.1259</td>\n",
              "      <td>1425.5262</td>\n",
              "      <td>1431.5262</td>\n",
              "    </tr>\n",
              "  </tbody>\n",
              "</table>\n",
              "</div>"
            ],
            "text/plain": [
              "      production1  production2  production3\n",
              "year                                       \n",
              "1990    1265.9570    1283.7596    1591.7596\n",
              "1991    1316.8270    1499.4401    1309.4401\n",
              "1992    1231.8878    1267.2503    1399.2503\n",
              "1993    1255.2003    1364.3083    1360.3083\n",
              "1994    1255.1259    1425.5262    1431.5262"
            ]
          },
          "metadata": {
            "tags": []
          },
          "execution_count": 6
        }
      ]
    },
    {
      "cell_type": "code",
      "metadata": {
        "id": "nzCQZCAfI7DE",
        "colab_type": "code",
        "outputId": "a06885cc-a28f-46c4-be40-2610cbb10b02",
        "colab": {
          "base_uri": "https://localhost:8080/",
          "height": 228
        }
      },
      "source": [
        "data.to_records().dtype\n",
        "data.index = data.index.astype('i8')\n",
        "cols = ['production1','production2','production3'] # Columnas que queremos cargar\n",
        "data1[cols].head()"
      ],
      "execution_count": 7,
      "outputs": [
        {
          "output_type": "execute_result",
          "data": {
            "text/html": [
              "<div>\n",
              "<style scoped>\n",
              "    .dataframe tbody tr th:only-of-type {\n",
              "        vertical-align: middle;\n",
              "    }\n",
              "\n",
              "    .dataframe tbody tr th {\n",
              "        vertical-align: top;\n",
              "    }\n",
              "\n",
              "    .dataframe thead th {\n",
              "        text-align: right;\n",
              "    }\n",
              "</style>\n",
              "<table border=\"1\" class=\"dataframe\">\n",
              "  <thead>\n",
              "    <tr style=\"text-align: right;\">\n",
              "      <th></th>\n",
              "      <th>production1</th>\n",
              "      <th>production2</th>\n",
              "      <th>production3</th>\n",
              "    </tr>\n",
              "    <tr>\n",
              "      <th>year</th>\n",
              "      <th></th>\n",
              "      <th></th>\n",
              "      <th></th>\n",
              "    </tr>\n",
              "  </thead>\n",
              "  <tbody>\n",
              "    <tr>\n",
              "      <th>1990</th>\n",
              "      <td>1265.9570</td>\n",
              "      <td>1283.7596</td>\n",
              "      <td>1591.7596</td>\n",
              "    </tr>\n",
              "    <tr>\n",
              "      <th>1991</th>\n",
              "      <td>1316.8270</td>\n",
              "      <td>1499.4401</td>\n",
              "      <td>1309.4401</td>\n",
              "    </tr>\n",
              "    <tr>\n",
              "      <th>1992</th>\n",
              "      <td>1231.8878</td>\n",
              "      <td>1267.2503</td>\n",
              "      <td>1399.2503</td>\n",
              "    </tr>\n",
              "    <tr>\n",
              "      <th>1993</th>\n",
              "      <td>1255.2003</td>\n",
              "      <td>1364.3083</td>\n",
              "      <td>1360.3083</td>\n",
              "    </tr>\n",
              "    <tr>\n",
              "      <th>1994</th>\n",
              "      <td>1255.1259</td>\n",
              "      <td>1425.5262</td>\n",
              "      <td>1431.5262</td>\n",
              "    </tr>\n",
              "  </tbody>\n",
              "</table>\n",
              "</div>"
            ],
            "text/plain": [
              "      production1  production2  production3\n",
              "year                                       \n",
              "1990    1265.9570    1283.7596    1591.7596\n",
              "1991    1316.8270    1499.4401    1309.4401\n",
              "1992    1231.8878    1267.2503    1399.2503\n",
              "1993    1255.2003    1364.3083    1360.3083\n",
              "1994    1255.1259    1425.5262    1431.5262"
            ]
          },
          "metadata": {
            "tags": []
          },
          "execution_count": 7
        }
      ]
    },
    {
      "cell_type": "code",
      "metadata": {
        "id": "nsApECXiI7DO",
        "colab_type": "code",
        "outputId": "c8799ba2-609f-4947-eb2b-5a804225be65",
        "colab": {
          "base_uri": "https://localhost:8080/",
          "height": 526
        }
      },
      "source": [
        "#Datos desde 01-1990 hasta 08-2017\n",
        "data2 = data1[cols].values\n",
        "data2"
      ],
      "execution_count": 8,
      "outputs": [
        {
          "output_type": "execute_result",
          "data": {
            "text/plain": [
              "array([[1265.957 , 1283.7596, 1591.7596],\n",
              "       [1316.827 , 1499.4401, 1309.4401],\n",
              "       [1231.8878, 1267.2503, 1399.2503],\n",
              "       [1255.2003, 1364.3083, 1360.3083],\n",
              "       [1255.1259, 1425.5262, 1431.5262],\n",
              "       [1270.1582, 1327.294 , 1435.294 ],\n",
              "       [1322.318 , 1258.5922, 1328.5922],\n",
              "       [1347.9634, 1289.318 , 1313.318 ],\n",
              "       [1425.1335, 1404.9037, 1432.9037],\n",
              "       [1396.5543, 1383.479 , 1345.479 ],\n",
              "       [1462.279 , 1378.3539, 1286.3539],\n",
              "       [1446.6292, 1293.7826, 1326.7826],\n",
              "       [1385.3818, 1313.5118, 1303.5118],\n",
              "       [1379.4629, 1283.2887, 1281.2887],\n",
              "       [1394.5927, 1354.3612, 1247.3612],\n",
              "       [1439.4358, 1205.456 , 1451.456 ],\n",
              "       [1380.4629, 1368.0427, 1410.0427],\n",
              "       [1300.7343, 1379.8707, 1295.8707],\n",
              "       [1186.188 , 1173.3889, 1374.3889],\n",
              "       [1133.7732, 1306.6877, 1272.6877],\n",
              "       [1242.1636, 1293.4226, 1346.4226],\n",
              "       [1207.1503, 1275.8711, 1256.8711],\n",
              "       [1199.9999, 1390.9851, 1342.9851],\n",
              "       [1251.1338, 1331.8517, 1426.8517],\n",
              "       [1250.7895, 1290.2894, 1458.2894],\n",
              "       [1330.1905, 1354.0993, 1295.0993],\n",
              "       [1301.9953, 1282.1072, 1254.1072],\n",
              "       [ 858.3565,  813.1483,  782.1483]])"
            ]
          },
          "metadata": {
            "tags": []
          },
          "execution_count": 8
        }
      ]
    },
    {
      "cell_type": "code",
      "metadata": {
        "id": "FqVEbd2SI7DV",
        "colab_type": "code",
        "outputId": "7771002c-87dd-4fbe-d6ab-69ae549b8257",
        "colab": {
          "base_uri": "https://localhost:8080/",
          "height": 315
        }
      },
      "source": [
        "a = spc(pistonrings) + ewma()\n",
        "print(a)"
      ],
      "execution_count": 9,
      "outputs": [
        {
          "output_type": "display_data",
          "data": {
            "image/png": "[encoded data removed]",
            "text/plain": [
              "<Figure size 432x288 with 1 Axes>"
            ]
          },
          "metadata": {
            "tags": []
          }
        },
        {
          "output_type": "stream",
          "text": [
            "<pyspc: (-9223363283110261851)>\n"
          ],
          "name": "stdout"
        }
      ]
    },
    {
      "cell_type": "code",
      "metadata": {
        "id": "Y_dSa-gyI7Da",
        "colab_type": "code",
        "outputId": "79b2c4d6-705f-49bd-bbbb-be55fc8815f5",
        "colab": {
          "base_uri": "https://localhost:8080/",
          "height": 315
        }
      },
      "source": [
        "#data= data.values\n",
        "a = spc(data2) + xbar_rbar() +rbar() + rules()\n",
        "print(a)"
      ],
      "execution_count": 10,
      "outputs": [
        {
          "output_type": "display_data",
          "data": {
            "image/png": "[encoded data removed]",
            "text/plain": [
              "<Figure size 432x288 with 2 Axes>"
            ]
          },
          "metadata": {
            "tags": []
          }
        },
        {
          "output_type": "stream",
          "text": [
            "<pyspc: (-9223363283110261956)>\n"
          ],
          "name": "stdout"
        }
      ]
    },
    {
      "cell_type": "code",
      "metadata": {
        "id": "Bk6vZYd2I7Df",
        "colab_type": "code",
        "outputId": "0e857c95-0f3f-48f5-9fd6-591ac798d8c6",
        "colab": {
          "base_uri": "https://localhost:8080/",
          "height": 279
        }
      },
      "source": [
        "# Diagrama de dispersión produccion por año\n",
        "var = 'production1'\n",
        "data = pd.concat([data['year'], data[var]], axis=1)\n",
        "data.plot.scatter(x=var, y='year', alpha = 0.5);"
      ],
      "execution_count": 11,
      "outputs": [
        {
          "output_type": "display_data",
          "data": {
            "image/png": "[encoded data removed]",
            "text/plain": [
              "<Figure size 432x288 with 1 Axes>"
            ]
          },
          "metadata": {
            "tags": []
          }
        }
      ]
    },
    {
      "cell_type": "code",
      "metadata": {
        "id": "udvEztTNI7Dl",
        "colab_type": "code",
        "outputId": "5e95b90c-ef08-4e7f-9f3f-8aab98ff2c0b",
        "colab": {
          "base_uri": "https://localhost:8080/",
          "height": 365
        }
      },
      "source": [
        "d=data.groupby('year').mean()[\"production1\"].plot(kind='bar', figsize=(15, 5), fontsize=15)\n",
        "d.set_xlabel(\"YEAR\", fontsize=12)\n",
        "d.set_ylabel(\"PRODUCION\", fontsize=12)\n",
        "plt.show()"
      ],
      "execution_count": 12,
      "outputs": [
        {
          "output_type": "display_data",
          "data": {
            "image/png": "[encoded data removed]",
            "text/plain": [
              "<Figure size 1080x360 with 1 Axes>"
            ]
          },
          "metadata": {
            "tags": []
          }
        }
      ]
    }
  ]
}